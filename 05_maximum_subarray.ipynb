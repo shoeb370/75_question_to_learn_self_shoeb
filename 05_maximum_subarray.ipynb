{
 "cells": [
  {
   "attachments": {},
   "cell_type": "markdown",
   "metadata": {},
   "source": [
    "Given an integer array nums, find the subarray with the largest sum, and return its sum.\n",
    "\n",
    "Input: nums = [-2,1,-3,4,-1,2,1,-5,4]\n",
    "Output: 6\n",
    "\n",
    "\n",
    "https://leetcode.com/problems/maximum-subarray/\n",
    "\n",
    "https://www.youtube.com/watch?v=5WZl3MMT0Eg"
   ]
  },
  {
   "cell_type": "code",
   "execution_count": 3,
   "metadata": {},
   "outputs": [],
   "source": [
    "def maxSubArray(nums):\n",
    "    maxSub = nums[0]\n",
    "    curSum = 0\n",
    "    for n in nums:\n",
    "        if curSum < 0:\n",
    "            curSum = 0\n",
    "        curSum += n\n",
    "        maxSub =max(maxSub, curSum)\n",
    "        # print(\"(maxSub, curSum)\",(maxSub, curSum), maxSub)\n",
    "    return maxSub"
   ]
  },
  {
   "cell_type": "code",
   "execution_count": 4,
   "metadata": {},
   "outputs": [
    {
     "name": "stdout",
     "output_type": "stream",
     "text": [
      "(maxSub, curSum) (-2, -2) -2\n",
      "(maxSub, curSum) (1, 1) 1\n",
      "(maxSub, curSum) (1, -2) 1\n",
      "(maxSub, curSum) (4, 4) 4\n",
      "(maxSub, curSum) (4, 3) 4\n",
      "(maxSub, curSum) (5, 5) 5\n",
      "(maxSub, curSum) (6, 6) 6\n",
      "(maxSub, curSum) (6, 1) 6\n",
      "(maxSub, curSum) (6, 5) 6\n",
      "Result of sum of SubArray:  6\n"
     ]
    }
   ],
   "source": [
    "nums = [-2,1,-3,4,-1,2,1,-5,4]\n",
    "result = maxSubArray(nums)\n",
    "print(\"Result of sum of SubArray: \", result)"
   ]
  },
  {
   "cell_type": "code",
   "execution_count": null,
   "metadata": {},
   "outputs": [],
   "source": []
  }
 ],
 "metadata": {
  "kernelspec": {
   "display_name": "Python 3",
   "language": "python",
   "name": "python3"
  },
  "language_info": {
   "codemirror_mode": {
    "name": "ipython",
    "version": 3
   },
   "file_extension": ".py",
   "mimetype": "text/x-python",
   "name": "python",
   "nbconvert_exporter": "python",
   "pygments_lexer": "ipython3",
   "version": "3.11.2"
  },
  "orig_nbformat": 4,
  "vscode": {
   "interpreter": {
    "hash": "de47f5c92c0ee6f12a59a5613ac5feff6aab19ddff207ba0b3964cced08c4ccc"
   }
  }
 },
 "nbformat": 4,
 "nbformat_minor": 2
}
